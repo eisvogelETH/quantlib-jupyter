{
 "cells": [
  {
   "cell_type": "markdown",
   "id": "ae0ca339-1539-4678-b341-5f6c1e8e2883",
   "metadata": {},
   "source": [
    "# Testing QuantLib functions"
   ]
  },
  {
   "cell_type": "code",
   "execution_count": 1,
   "id": "3cf835eb-0694-41eb-8f3c-de3bc2b9c54e",
   "metadata": {},
   "outputs": [],
   "source": [
    "import QuantLib as ql\n",
    "import pandas as pd"
   ]
  },
  {
   "cell_type": "code",
   "execution_count": 2,
   "id": "bb225439-f220-46c8-a78d-ee5df223a3e0",
   "metadata": {},
   "outputs": [
    {
     "name": "stdout",
     "output_type": "stream",
     "text": [
      "5.000000 % Actual/Actual (ISDA) Annual compounding\n",
      "1.1025\n",
      "1.1025\n"
     ]
    }
   ],
   "source": [
    "annual_rate = 0.05\n",
    "day_count = ql.ActualActual(ql.ActualActual.ISDA)\n",
    "compound_type = ql.Compounded\n",
    "frequency = ql.Annual\n",
    "         \n",
    "interest_rate = ql.InterestRate(annual_rate, \n",
    "                                         day_count, \n",
    "                                         compound_type, \n",
    "                                         frequency)\n",
    "print(interest_rate)\n",
    "\n",
    "t = 2.0\n",
    "print(interest_rate.compoundFactor(t))\n",
    "print((1+annual_rate)*(1.0+annual_rate))"
   ]
  },
  {
   "cell_type": "code",
   "execution_count": null,
   "id": "257c0ba5-ea2d-4e61-8045-b81304593742",
   "metadata": {},
   "outputs": [],
   "source": []
  }
 ],
 "metadata": {
  "kernelspec": {
   "display_name": "Python 3 (ipykernel)",
   "language": "python",
   "name": "python3"
  },
  "language_info": {
   "codemirror_mode": {
    "name": "ipython",
    "version": 3
   },
   "file_extension": ".py",
   "mimetype": "text/x-python",
   "name": "python",
   "nbconvert_exporter": "python",
   "pygments_lexer": "ipython3",
   "version": "3.12.3"
  }
 },
 "nbformat": 4,
 "nbformat_minor": 5
}
